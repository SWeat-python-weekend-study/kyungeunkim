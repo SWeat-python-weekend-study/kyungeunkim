{
  "nbformat": 4,
  "nbformat_minor": 0,
  "metadata": {
    "colab": {
      "name": "210214.ipynb",
      "provenance": [],
      "toc_visible": true,
      "include_colab_link": true
    },
    "kernelspec": {
      "name": "python3",
      "display_name": "Python 3"
    }
  },
  "cells": [
    {
      "cell_type": "markdown",
      "metadata": {
        "id": "view-in-github",
        "colab_type": "text"
      },
      "source": [
        "<a href=\"https://colab.research.google.com/github/SWeat-python-weekend-study/kyungeunkim/blob/main/%EA%B9%80%EA%B2%BD%EC%9D%80.ipynb\" target=\"_parent\"><img src=\"https://colab.research.google.com/assets/colab-badge.svg\" alt=\"Open In Colab\"/></a>"
      ]
    },
    {
      "cell_type": "markdown",
      "metadata": {
        "id": "Kd5NW6jInvAB"
      },
      "source": [
        "**0. Colab**\r\n"
      ]
    },
    {
      "cell_type": "markdown",
      "metadata": {
        "id": "92YNQ4ikoN7o"
      },
      "source": [
        "- <스스로> 마크다운 실습"
      ]
    },
    {
      "cell_type": "code",
      "metadata": {
        "id": "HWcY1UQLVkhB"
      },
      "source": [
        "\r\n",
        "# 아하아하아하 \r\n",
        "## 아하아하\r\n",
        "### 아하\r\n"
      ],
      "execution_count": 115,
      "outputs": []
    },
    {
      "cell_type": "code",
      "metadata": {
        "id": "J4PITutpovRx",
        "colab": {
          "base_uri": "https://localhost:8080/"
        },
        "outputId": "c2c368b4-c01a-4146-d866-df10d5941adf"
      },
      "source": [
        "!pwd"
      ],
      "execution_count": 114,
      "outputs": [
        {
          "output_type": "stream",
          "text": [
            "/content\n"
          ],
          "name": "stdout"
        }
      ]
    },
    {
      "cell_type": "code",
      "metadata": {
        "id": "VVwWj__A-02I"
      },
      "source": [
        "!ls"
      ],
      "execution_count": null,
      "outputs": []
    },
    {
      "cell_type": "markdown",
      "metadata": {
        "id": "40VuYJCsCgH8"
      },
      "source": [
        "**1. iterator**\r\n",
        "- iterable: 반복 가능한 객체  \r\n",
        "ex) 문자열, 리스트, 딕셔너리, 집합  \r\n",
        " 요소가 여러개 들어있고, 한 번에 하나씩 꺼낼 수 있는 객체  \r\n",
        "  \r\n",
        "- \\_\\_iter__ 메서드가 해당 객체에 있는지 확인\r\n",
        "\r\n",
        "\r\n"
      ]
    },
    {
      "cell_type": "code",
      "metadata": {
        "id": "xL0Wy8nwCkaB",
        "colab": {
          "base_uri": "https://localhost:8080/"
        },
        "outputId": "3768dad2-c6f3-4deb-bf22-6c3deeaef41e"
      },
      "source": [
        "dir([1,2,3])"
      ],
      "execution_count": 34,
      "outputs": [
        {
          "output_type": "execute_result",
          "data": {
            "text/plain": [
              "['__add__',\n",
              " '__class__',\n",
              " '__contains__',\n",
              " '__delattr__',\n",
              " '__delitem__',\n",
              " '__dir__',\n",
              " '__doc__',\n",
              " '__eq__',\n",
              " '__format__',\n",
              " '__ge__',\n",
              " '__getattribute__',\n",
              " '__getitem__',\n",
              " '__gt__',\n",
              " '__hash__',\n",
              " '__iadd__',\n",
              " '__imul__',\n",
              " '__init__',\n",
              " '__init_subclass__',\n",
              " '__iter__',\n",
              " '__le__',\n",
              " '__len__',\n",
              " '__lt__',\n",
              " '__mul__',\n",
              " '__ne__',\n",
              " '__new__',\n",
              " '__reduce__',\n",
              " '__reduce_ex__',\n",
              " '__repr__',\n",
              " '__reversed__',\n",
              " '__rmul__',\n",
              " '__setattr__',\n",
              " '__setitem__',\n",
              " '__sizeof__',\n",
              " '__str__',\n",
              " '__subclasshook__',\n",
              " 'append',\n",
              " 'clear',\n",
              " 'copy',\n",
              " 'count',\n",
              " 'extend',\n",
              " 'index',\n",
              " 'insert',\n",
              " 'pop',\n",
              " 'remove',\n",
              " 'reverse',\n",
              " 'sort']"
            ]
          },
          "metadata": {
            "tags": []
          },
          "execution_count": 34
        }
      ]
    },
    {
      "cell_type": "code",
      "metadata": {
        "id": "Seq22FxZED_y",
        "colab": {
          "base_uri": "https://localhost:8080/"
        },
        "outputId": "293ed068-874d-458a-a3a8-468bf169b2cb"
      },
      "source": [
        "[1, 2, 3].__iter__()"
      ],
      "execution_count": 33,
      "outputs": [
        {
          "output_type": "execute_result",
          "data": {
            "text/plain": [
              "<list_iterator at 0x7f1b6f5e0898>"
            ]
          },
          "metadata": {
            "tags": []
          },
          "execution_count": 33
        }
      ]
    },
    {
      "cell_type": "markdown",
      "metadata": {
        "id": "03bEx3WeEkFo"
      },
      "source": [
        "\r\n",
        "\r\n",
        "---\r\n",
        "\r\n"
      ]
    },
    {
      "cell_type": "code",
      "metadata": {
        "id": "yHhgKdnaEPVb"
      },
      "source": [
        "it = [1, 2, 3].__iter__() #리스트의 이터레이터를 it 변수에 저장 후 __next__ 메서드 호출"
      ],
      "execution_count": null,
      "outputs": []
    },
    {
      "cell_type": "code",
      "metadata": {
        "id": "NhJviSOBEW1F"
      },
      "source": [
        "it.__next__()"
      ],
      "execution_count": null,
      "outputs": []
    },
    {
      "cell_type": "code",
      "metadata": {
        "id": "wpCgno5REYTb"
      },
      "source": [
        "it.__next__()"
      ],
      "execution_count": null,
      "outputs": []
    },
    {
      "cell_type": "code",
      "metadata": {
        "id": "cIYp0RHSEZW_"
      },
      "source": [
        "it.__next__()"
      ],
      "execution_count": null,
      "outputs": []
    },
    {
      "cell_type": "code",
      "metadata": {
        "id": "H0WUnqJLEajN"
      },
      "source": [
        "it.__next__() #더 이상 꺼낼 요소가 없으므로 StopIteration Exception 발생"
      ],
      "execution_count": null,
      "outputs": []
    },
    {
      "cell_type": "markdown",
      "metadata": {
        "id": "ulPiDxY8EnA2"
      },
      "source": [
        "\r\n",
        "\r\n",
        "---\r\n",
        "\r\n"
      ]
    },
    {
      "cell_type": "code",
      "metadata": {
        "id": "4qgLNDMKEn1M"
      },
      "source": [
        "'Hello, world!'.__iter__()"
      ],
      "execution_count": null,
      "outputs": []
    },
    {
      "cell_type": "code",
      "metadata": {
        "id": "AMwFuE3MExQu"
      },
      "source": [
        "{'a': 1, 'b': 2}.__iter__()"
      ],
      "execution_count": null,
      "outputs": []
    },
    {
      "cell_type": "code",
      "metadata": {
        "id": "VAT2FFb6Ezqm"
      },
      "source": [
        "{1, 2, 3}.__iter__()"
      ],
      "execution_count": null,
      "outputs": []
    },
    {
      "cell_type": "markdown",
      "metadata": {
        "id": "6y-FsYT1E2ps"
      },
      "source": [
        "\r\n",
        "\r\n",
        "---\r\n",
        "\r\n"
      ]
    },
    {
      "cell_type": "code",
      "metadata": {
        "id": "ZivClKH8E38V"
      },
      "source": [
        "it = range(3).__iter__()"
      ],
      "execution_count": null,
      "outputs": []
    },
    {
      "cell_type": "code",
      "metadata": {
        "id": "O08jvvNZE64-"
      },
      "source": [
        "it.__next__()"
      ],
      "execution_count": null,
      "outputs": []
    },
    {
      "cell_type": "code",
      "metadata": {
        "id": "VAcdtOfAE7QU"
      },
      "source": [
        "it.__next__()"
      ],
      "execution_count": null,
      "outputs": []
    },
    {
      "cell_type": "code",
      "metadata": {
        "id": "NRNd2dluE7k0"
      },
      "source": [
        "it.__next__()"
      ],
      "execution_count": null,
      "outputs": []
    },
    {
      "cell_type": "code",
      "metadata": {
        "id": "7e1LVArOE9fK"
      },
      "source": [
        "it.__next__()"
      ],
      "execution_count": null,
      "outputs": []
    },
    {
      "cell_type": "markdown",
      "metadata": {
        "id": "obudCleDGA29"
      },
      "source": [
        "**2. Generator**\r\n",
        "\r\n",
        "- generator: iterator를 생성해주는 함수  \r\n",
        "generator는 함수 안에서 yield라는 키워드만 사용하면 됨\r\n",
        "- iterator보다 간단"
      ]
    },
    {
      "cell_type": "code",
      "metadata": {
        "id": "avYPvcnOGjJI",
        "colab": {
          "base_uri": "https://localhost:8080/"
        },
        "outputId": "6defaf52-9389-4e5f-c498-0d558b73ea8c"
      },
      "source": [
        "def number_generator():\r\n",
        "    yield 0\r\n",
        "    yield 1\r\n",
        "    yield 2\r\n",
        " \r\n",
        "for i in number_generator():\r\n",
        "    print(i)"
      ],
      "execution_count": 1,
      "outputs": [
        {
          "output_type": "stream",
          "text": [
            "0\n",
            "1\n",
            "2\n"
          ],
          "name": "stdout"
        }
      ]
    },
    {
      "cell_type": "code",
      "metadata": {
        "id": "PudO8DEdGnG4",
        "colab": {
          "base_uri": "https://localhost:8080/"
        },
        "outputId": "cd531f2b-e880-4d7f-f00a-0fba05643694"
      },
      "source": [
        "def g ():\r\n",
        "  print('one')\r\n",
        "  yield 1 #첫번째 next 호출 시 여기까지 처리\r\n",
        "  print('two')\r\n",
        "  yield 2 #두번째 next 호출 시 여기까지 처리\r\n",
        "  print('three')\r\n",
        "  yield 3 #세번째 next 호출 시 여기까지 처리\r\n",
        "\r\n",
        "_ = g()\r\n",
        "next(_)\r\n",
        "next(_)\r\n",
        "next(_)"
      ],
      "execution_count": 59,
      "outputs": [
        {
          "output_type": "stream",
          "text": [
            "one\n",
            "two\n",
            "three\n"
          ],
          "name": "stdout"
        },
        {
          "output_type": "execute_result",
          "data": {
            "text/plain": [
              "3"
            ]
          },
          "metadata": {
            "tags": []
          },
          "execution_count": 59
        }
      ]
    },
    {
      "cell_type": "code",
      "metadata": {
        "id": "HSsicq3IHJBS",
        "colab": {
          "base_uri": "https://localhost:8080/"
        },
        "outputId": "4c6d589a-ec2b-419e-bbc7-1a7093fdb6b7"
      },
      "source": [
        "#반복문 처리 시 활용\r\n",
        "def g():\r\n",
        "  A = [1,2,3,4,5]\r\n",
        "  for _ in A:\r\n",
        "    yield _\r\n",
        "\r\n",
        "for _ in g():\r\n",
        "  print( _ * 2)"
      ],
      "execution_count": 60,
      "outputs": [
        {
          "output_type": "stream",
          "text": [
            "2\n",
            "4\n",
            "6\n",
            "8\n",
            "10\n"
          ],
          "name": "stdout"
        }
      ]
    },
    {
      "cell_type": "markdown",
      "metadata": {
        "id": "gl32tx5GIbvg"
      },
      "source": [
        "\r\n",
        "\r\n",
        "---\r\n",
        "\r\n"
      ]
    },
    {
      "cell_type": "code",
      "metadata": {
        "id": "TaPj6IWIIcq8",
        "colab": {
          "base_uri": "https://localhost:8080/"
        },
        "outputId": "3c4443f7-04dc-4cc5-b7bf-66301f68cea8"
      },
      "source": [
        "g = number_generator()\r\n",
        "g"
      ],
      "execution_count": 61,
      "outputs": [
        {
          "output_type": "execute_result",
          "data": {
            "text/plain": [
              "<generator object number_generator at 0x7f1b6f63bd00>"
            ]
          },
          "metadata": {
            "tags": []
          },
          "execution_count": 61
        }
      ]
    },
    {
      "cell_type": "code",
      "metadata": {
        "id": "XQdD2eKMIgNU",
        "colab": {
          "base_uri": "https://localhost:8080/"
        },
        "outputId": "be4cd554-b483-4e88-fdb8-89dab9ef1f2d"
      },
      "source": [
        "g.__next__()"
      ],
      "execution_count": 62,
      "outputs": [
        {
          "output_type": "execute_result",
          "data": {
            "text/plain": [
              "0"
            ]
          },
          "metadata": {
            "tags": []
          },
          "execution_count": 62
        }
      ]
    },
    {
      "cell_type": "code",
      "metadata": {
        "id": "tzsFc0XKIhxv",
        "colab": {
          "base_uri": "https://localhost:8080/"
        },
        "outputId": "a34ad576-f210-4b85-ca98-247e057bdccc"
      },
      "source": [
        "g.__next__()"
      ],
      "execution_count": 63,
      "outputs": [
        {
          "output_type": "execute_result",
          "data": {
            "text/plain": [
              "1"
            ]
          },
          "metadata": {
            "tags": []
          },
          "execution_count": 63
        }
      ]
    },
    {
      "cell_type": "code",
      "metadata": {
        "id": "eiZndpQeIivH",
        "colab": {
          "base_uri": "https://localhost:8080/"
        },
        "outputId": "99a4f6fd-33f0-40a7-bec9-5cd7451d60cc"
      },
      "source": [
        "g.__next__()"
      ],
      "execution_count": 64,
      "outputs": [
        {
          "output_type": "execute_result",
          "data": {
            "text/plain": [
              "2"
            ]
          },
          "metadata": {
            "tags": []
          },
          "execution_count": 64
        }
      ]
    },
    {
      "cell_type": "code",
      "metadata": {
        "id": "ch5Par4dIlA5",
        "colab": {
          "base_uri": "https://localhost:8080/",
          "height": 172
        },
        "outputId": "ef82ff05-0d99-46b5-c226-394bf6ec0218"
      },
      "source": [
        "g.__next__()"
      ],
      "execution_count": 65,
      "outputs": [
        {
          "output_type": "error",
          "ename": "StopIteration",
          "evalue": "ignored",
          "traceback": [
            "\u001b[0;31m---------------------------------------------------------------------------\u001b[0m",
            "\u001b[0;31mStopIteration\u001b[0m                             Traceback (most recent call last)",
            "\u001b[0;32m<ipython-input-65-42e506b10868>\u001b[0m in \u001b[0;36m<module>\u001b[0;34m()\u001b[0m\n\u001b[0;32m----> 1\u001b[0;31m \u001b[0mg\u001b[0m\u001b[0;34m.\u001b[0m\u001b[0m__next__\u001b[0m\u001b[0;34m(\u001b[0m\u001b[0;34m)\u001b[0m\u001b[0;34m\u001b[0m\u001b[0;34m\u001b[0m\u001b[0m\n\u001b[0m",
            "\u001b[0;31mStopIteration\u001b[0m: "
          ]
        }
      ]
    },
    {
      "cell_type": "markdown",
      "metadata": {
        "id": "WO6d1hVqI1Pb"
      },
      "source": [
        "- yield를 사용하면 값을 함수 바깥으로 전달하면서 코드 실행을 함수 바깥에 양보"
      ]
    },
    {
      "cell_type": "markdown",
      "metadata": {
        "id": "X4rQZNx3JMVT"
      },
      "source": [
        "**3. 한 줄 조건문**"
      ]
    },
    {
      "cell_type": "code",
      "metadata": {
        "id": "ZV7-pjIZI7X7"
      },
      "source": [
        "def confirm(x):\r\n",
        "  return '1입니다' if x==1 else\\\r\n",
        "          '5입니다' if x==5 else\\\r\n",
        "          '1도 5도 아닙니다'"
      ],
      "execution_count": 55,
      "outputs": []
    },
    {
      "cell_type": "code",
      "metadata": {
        "id": "aqVlFIgBJ0cH",
        "colab": {
          "base_uri": "https://localhost:8080/",
          "height": 35
        },
        "outputId": "71f7ac0e-28ab-403d-d0be-6a64112317bb"
      },
      "source": [
        "confirm(1)"
      ],
      "execution_count": 56,
      "outputs": [
        {
          "output_type": "execute_result",
          "data": {
            "application/vnd.google.colaboratory.intrinsic+json": {
              "type": "string"
            },
            "text/plain": [
              "'1입니다'"
            ]
          },
          "metadata": {
            "tags": []
          },
          "execution_count": 56
        }
      ]
    },
    {
      "cell_type": "code",
      "metadata": {
        "id": "8pB7VoWPJ3jo",
        "colab": {
          "base_uri": "https://localhost:8080/",
          "height": 35
        },
        "outputId": "89bcec5a-2c1c-47cf-b72a-2780035e42df"
      },
      "source": [
        "confirm(3)"
      ],
      "execution_count": 57,
      "outputs": [
        {
          "output_type": "execute_result",
          "data": {
            "application/vnd.google.colaboratory.intrinsic+json": {
              "type": "string"
            },
            "text/plain": [
              "'1도 5도 아닙니다'"
            ]
          },
          "metadata": {
            "tags": []
          },
          "execution_count": 57
        }
      ]
    },
    {
      "cell_type": "code",
      "metadata": {
        "id": "5I-1xgCvJ47c",
        "colab": {
          "base_uri": "https://localhost:8080/",
          "height": 35
        },
        "outputId": "cc8261d1-9d7d-4e07-e9cc-2e5d37b5b7ee"
      },
      "source": [
        "confirm(5)"
      ],
      "execution_count": 58,
      "outputs": [
        {
          "output_type": "execute_result",
          "data": {
            "application/vnd.google.colaboratory.intrinsic+json": {
              "type": "string"
            },
            "text/plain": [
              "'5입니다'"
            ]
          },
          "metadata": {
            "tags": []
          },
          "execution_count": 58
        }
      ]
    },
    {
      "cell_type": "markdown",
      "metadata": {
        "id": "CJg7bMneKC8E"
      },
      "source": [
        "**4. 리스트**"
      ]
    },
    {
      "cell_type": "markdown",
      "metadata": {
        "id": "hMqA6hYnKI1W"
      },
      "source": [
        "- 리스트 기본  \r\n",
        "[ ] 대괄호 안에 쉽표, 구분자로 분리"
      ]
    },
    {
      "cell_type": "code",
      "metadata": {
        "id": "JAwtJBogKMU0"
      },
      "source": [
        "A = [1,2,3,4,5]"
      ],
      "execution_count": 51,
      "outputs": []
    },
    {
      "cell_type": "markdown",
      "metadata": {
        "id": "jXseLfABKZqc"
      },
      "source": [
        "- 리스트는 추가하고 삭제 가능"
      ]
    },
    {
      "cell_type": "code",
      "metadata": {
        "id": "23ca_didKcLZ",
        "colab": {
          "base_uri": "https://localhost:8080/"
        },
        "outputId": "0526fd5c-8cc7-49b3-b2cd-52f5c9d90802"
      },
      "source": [
        "A.append(6)\r\n",
        "A"
      ],
      "execution_count": 50,
      "outputs": [
        {
          "output_type": "execute_result",
          "data": {
            "text/plain": [
              "[2, 3, 4, 5, 6]"
            ]
          },
          "metadata": {
            "tags": []
          },
          "execution_count": 50
        }
      ]
    },
    {
      "cell_type": "code",
      "metadata": {
        "id": "9sCAriE-KgVe",
        "colab": {
          "base_uri": "https://localhost:8080/"
        },
        "outputId": "9b440c57-2828-446c-e641-48982eb8f448"
      },
      "source": [
        "del(A[0])\r\n",
        "A"
      ],
      "execution_count": 49,
      "outputs": [
        {
          "output_type": "execute_result",
          "data": {
            "text/plain": [
              "[2, 3, 4, 5]"
            ]
          },
          "metadata": {
            "tags": []
          },
          "execution_count": 49
        }
      ]
    },
    {
      "cell_type": "markdown",
      "metadata": {
        "id": "ZoQYBAXoKpJG"
      },
      "source": [
        "- 리스트 슬라이싱"
      ]
    },
    {
      "cell_type": "code",
      "metadata": {
        "id": "ssraydeJKm1z",
        "colab": {
          "base_uri": "https://localhost:8080/"
        },
        "outputId": "0c9c9666-cfe8-4496-88a0-1f185240bd67"
      },
      "source": [
        "A = [1,2,3,4,5]\r\n",
        "A[:2]"
      ],
      "execution_count": 48,
      "outputs": [
        {
          "output_type": "execute_result",
          "data": {
            "text/plain": [
              "[1, 2]"
            ]
          },
          "metadata": {
            "tags": []
          },
          "execution_count": 48
        }
      ]
    },
    {
      "cell_type": "markdown",
      "metadata": {
        "id": "YZtNU67ZKzLf"
      },
      "source": [
        "**5. 리스트 표현식**"
      ]
    },
    {
      "cell_type": "code",
      "metadata": {
        "id": "9ztgdUrpK9Vk"
      },
      "source": [
        "A = list(range(10)) # [0,1,2,3,4,5,6,7,8,9] 할당"
      ],
      "execution_count": 47,
      "outputs": []
    },
    {
      "cell_type": "code",
      "metadata": {
        "id": "uaMx5XI2LOZC"
      },
      "source": [
        "#파이썬에서 _ 문자를 변수명으로 사용 가능함 . 쓰고 버리는 의미 없는 임시변수 표현"
      ],
      "execution_count": null,
      "outputs": []
    },
    {
      "cell_type": "code",
      "metadata": {
        "id": "yS_TcZywLQAy",
        "colab": {
          "base_uri": "https://localhost:8080/"
        },
        "outputId": "d4c0b440-06c3-4e4d-83d0-46a8a56b1786"
      },
      "source": [
        "B = [_ for _ in A]\r\n",
        "# B = [x for x in A]\r\n",
        "B"
      ],
      "execution_count": 6,
      "outputs": [
        {
          "output_type": "execute_result",
          "data": {
            "text/plain": [
              "[0, 1, 2, 3, 4, 5, 6, 7, 8, 9]"
            ]
          },
          "metadata": {
            "tags": []
          },
          "execution_count": 6
        }
      ]
    },
    {
      "cell_type": "code",
      "metadata": {
        "id": "xsscCpR_Lqt3",
        "colab": {
          "base_uri": "https://localhost:8080/"
        },
        "outputId": "9afd35fc-496f-4386-aea5-fdccdae0e3f2"
      },
      "source": [
        "C =[x for x in A if x > 5 ] # [6,7,8,9] 할당 = 5 보다 큰 값 할당 필터링 역할\r\n",
        "C"
      ],
      "execution_count": 8,
      "outputs": [
        {
          "output_type": "execute_result",
          "data": {
            "text/plain": [
              "[6, 7, 8, 9]"
            ]
          },
          "metadata": {
            "tags": []
          },
          "execution_count": 8
        }
      ]
    },
    {
      "cell_type": "markdown",
      "metadata": {
        "id": "IOS8Bg2nMMm7"
      },
      "source": [
        "\r\n",
        "\r\n",
        "---\r\n",
        "\r\n"
      ]
    },
    {
      "cell_type": "code",
      "metadata": {
        "id": "rcRJW5mNMHEL",
        "colab": {
          "base_uri": "https://localhost:8080/"
        },
        "outputId": "0a07b3ec-dae7-446c-c40d-dc1f389ac7c7"
      },
      "source": [
        "D = [x for x in A if x > 5 and x % 2 == 0 ]\r\n",
        "D"
      ],
      "execution_count": 7,
      "outputs": [
        {
          "output_type": "execute_result",
          "data": {
            "text/plain": [
              "[6, 8]"
            ]
          },
          "metadata": {
            "tags": []
          },
          "execution_count": 7
        }
      ]
    },
    {
      "cell_type": "markdown",
      "metadata": {
        "id": "vq4NguC-MtdH"
      },
      "source": [
        "**6. 함수**"
      ]
    },
    {
      "cell_type": "code",
      "metadata": {
        "id": "U5_HCtF6MYxe"
      },
      "source": [
        "# F(n) = F(n-1) + F(n-2) 단, n > 2일 경우\r\n",
        "\r\n",
        "def F(n):\r\n",
        "  if n <= 2:\r\n",
        "    return 1\r\n",
        "  else:\r\n",
        "    return F(n-1) + F(n-2) # 재귀(recursive)"
      ],
      "execution_count": 46,
      "outputs": []
    },
    {
      "cell_type": "code",
      "metadata": {
        "id": "vdbxbtv9NBGa",
        "colab": {
          "base_uri": "https://localhost:8080/"
        },
        "outputId": "532ad5fe-2006-4a91-9d2f-70ff0a689b51"
      },
      "source": [
        "R = [F(n) for n in range(1, 10)]\r\n",
        "print(R) #F(1)에서 F(9)까지 구하기"
      ],
      "execution_count": 10,
      "outputs": [
        {
          "output_type": "stream",
          "text": [
            "[1, 1, 2, 3, 5, 8, 13, 21, 34]\n"
          ],
          "name": "stdout"
        }
      ]
    },
    {
      "cell_type": "markdown",
      "metadata": {
        "id": "Jh2el3OANd8Z"
      },
      "source": [
        "**7. 람다(lambda) 함수**\r\n",
        "- 익명함수(Anonymous Function)\r\n",
        "- 함수 정의를 한 줄로 생략하는 방식"
      ]
    },
    {
      "cell_type": "code",
      "metadata": {
        "id": "BvKJeMBHNhI0"
      },
      "source": [
        "A =lambda x : x*2\r\n",
        "A(5) #10 값\r\n",
        "\r\n",
        "def lamb(x):\r\n",
        "  return x*2"
      ],
      "execution_count": 45,
      "outputs": []
    },
    {
      "cell_type": "code",
      "metadata": {
        "id": "0C79zrtsQcnF",
        "colab": {
          "base_uri": "https://localhost:8080/"
        },
        "outputId": "8e02b08a-0d6d-493e-fc21-d8f9e5b7e682"
      },
      "source": [
        "F = lambda n : F(n-1) + F(n-2) if n > 2 else 1\r\n",
        "R = [F(n) for n in range(1,10)]\r\n",
        "print(R) #[1, 1, 2, 3, 5, 8, 13, 21, 34]"
      ],
      "execution_count": 30,
      "outputs": [
        {
          "output_type": "stream",
          "text": [
            "[1, 1, 2, 3, 5, 8, 13, 21, 34]\n"
          ],
          "name": "stdout"
        }
      ]
    },
    {
      "cell_type": "code",
      "metadata": {
        "id": "eYPsgVaBQ71_",
        "colab": {
          "base_uri": "https://localhost:8080/"
        },
        "outputId": "1d7f61ec-3473-45f9-8bfa-2b24a87599b2"
      },
      "source": [
        "A = lambda x : x * 2\r\n",
        "B = lambda x : x * 3\r\n",
        "C = lambda x : x * 4\r\n",
        "D = lambda x : x * 5\r\n",
        "\r\n",
        "L = [A,B,C,D]\r\n",
        "\r\n",
        "for f in L:\r\n",
        "  print(f(2))"
      ],
      "execution_count": 31,
      "outputs": [
        {
          "output_type": "stream",
          "text": [
            "4\n",
            "6\n",
            "8\n",
            "10\n"
          ],
          "name": "stdout"
        }
      ]
    },
    {
      "cell_type": "code",
      "metadata": {
        "id": "4DGzMdEWRPLc",
        "colab": {
          "base_uri": "https://localhost:8080/"
        },
        "outputId": "b9e10ba8-730f-46a5-ace8-f0428da4fdc6"
      },
      "source": [
        "F = lambda n : [f(n) for f in L]\r\n",
        "F(2)"
      ],
      "execution_count": 32,
      "outputs": [
        {
          "output_type": "execute_result",
          "data": {
            "text/plain": [
              "[4, 6, 8, 10]"
            ]
          },
          "metadata": {
            "tags": []
          },
          "execution_count": 32
        }
      ]
    },
    {
      "cell_type": "markdown",
      "metadata": {
        "id": "JyeOM6MxROcc"
      },
      "source": [
        "- <스스로>48페이지 예제 해보기"
      ]
    },
    {
      "cell_type": "code",
      "metadata": {
        "id": "qZTHoZveUXoN"
      },
      "source": [
        "A=lambda x: x*2"
      ],
      "execution_count": 78,
      "outputs": []
    },
    {
      "cell_type": "code",
      "metadata": {
        "id": "aWSVVcHcUY3l"
      },
      "source": [
        "B=lambda x: x*3 "
      ],
      "execution_count": 79,
      "outputs": []
    },
    {
      "cell_type": "code",
      "metadata": {
        "id": "Keo86zgPUhVP"
      },
      "source": [
        "C=lambda x: x*4"
      ],
      "execution_count": 80,
      "outputs": []
    },
    {
      "cell_type": "code",
      "metadata": {
        "id": "GrPjv78kUhnX"
      },
      "source": [
        "D=lambda x: x*5"
      ],
      "execution_count": 81,
      "outputs": []
    },
    {
      "cell_type": "code",
      "metadata": {
        "colab": {
          "base_uri": "https://localhost:8080/"
        },
        "id": "Gg-c1Lb0Uh1-",
        "outputId": "d70e3b28-0985-4644-ca0d-dda6b8fe507c"
      },
      "source": [
        "L=[A,B,C,D]\r\n",
        "for f in L:\r\n",
        "  print(f(2))"
      ],
      "execution_count": 82,
      "outputs": [
        {
          "output_type": "stream",
          "text": [
            "4\n",
            "6\n",
            "8\n",
            "10\n"
          ],
          "name": "stdout"
        }
      ]
    },
    {
      "cell_type": "code",
      "metadata": {
        "colab": {
          "base_uri": "https://localhost:8080/"
        },
        "id": "sq5s6s_5U5RE",
        "outputId": "172738f9-c9d8-4b1f-9019-e568bc620412"
      },
      "source": [
        "F=lambda n :[f(n)for f in L]\r\n",
        "F(2)"
      ],
      "execution_count": 83,
      "outputs": [
        {
          "output_type": "execute_result",
          "data": {
            "text/plain": [
              "[4, 6, 8, 10]"
            ]
          },
          "metadata": {
            "tags": []
          },
          "execution_count": 83
        }
      ]
    },
    {
      "cell_type": "markdown",
      "metadata": {
        "id": "Bz_p6rPdTD2K"
      },
      "source": [
        "**8. \\***args 와 \\****kwargs 이용한 람다**\r\n",
        "- *args 표현식  \r\n",
        ": 함수의 매개변수 * 문자는 임의의 복수의 매개변수가 오는 것으로 정의\r\n",
        "- **kwargs 표현식  \r\n",
        ": 함수의 매개변수에 ** 문자는 임의의 key=value 형태의 복수의 매개변수가 오는 것으로 정의\r\n"
      ]
    },
    {
      "cell_type": "code",
      "metadata": {
        "id": "kmOsR7JMTx-_",
        "colab": {
          "base_uri": "https://localhost:8080/",
          "height": 35
        },
        "outputId": "ec849f4c-6575-41ea-b95b-3afe12388414"
      },
      "source": [
        "F = lambda * x : ''.join(x) # 문자열을 붙여주는 함수\r\n",
        "F('파이썬', '코딩', '쉽네') # '파이썬코딩쉽네'"
      ],
      "execution_count": 84,
      "outputs": [
        {
          "output_type": "execute_result",
          "data": {
            "application/vnd.google.colaboratory.intrinsic+json": {
              "type": "string"
            },
            "text/plain": [
              "'파이썬코딩쉽네'"
            ]
          },
          "metadata": {
            "tags": []
          },
          "execution_count": 84
        }
      ]
    },
    {
      "cell_type": "code",
      "metadata": {
        "id": "krOjP8OZUBT-",
        "colab": {
          "base_uri": "https://localhost:8080/"
        },
        "outputId": "939ac7d2-4d86-4b7c-b40b-7c055006193c"
      },
      "source": [
        "F = lambda **x : [(v,k) for k, v in x.items()] #key, value를 서로 바꿔서 dictionary 생성\r\n",
        "D = F(A='파이썬', B='코딩', C='쉽네') #dict 생성\r\n",
        "print(D)\r\n",
        "\r\n",
        "D = dict(D)\r\n",
        "print(D['파이썬'])\r\n"
      ],
      "execution_count": 85,
      "outputs": [
        {
          "output_type": "stream",
          "text": [
            "[('파이썬', 'A'), ('코딩', 'B'), ('쉽네', 'C')]\n",
            "A\n"
          ],
          "name": "stdout"
        }
      ]
    },
    {
      "cell_type": "markdown",
      "metadata": {
        "id": "SrhsIPhUXGi_"
      },
      "source": [
        "\r\n",
        "\r\n",
        "---\r\n",
        "\r\n"
      ]
    },
    {
      "cell_type": "code",
      "metadata": {
        "id": "seFUZvfQWVXB"
      },
      "source": [
        "F = lambda **x : sum(x['data']) if 'type' in x and x['type'] == 'sum' else 0"
      ],
      "execution_count": 86,
      "outputs": []
    },
    {
      "cell_type": "code",
      "metadata": {
        "id": "b4dtmR0nWgYC",
        "colab": {
          "base_uri": "https://localhost:8080/"
        },
        "outputId": "77baa1cf-7d52-482d-f6bf-eb50ba167f0d"
      },
      "source": [
        "F(type='sum', data=[1,2,3,4])"
      ],
      "execution_count": 87,
      "outputs": [
        {
          "output_type": "execute_result",
          "data": {
            "text/plain": [
              "10"
            ]
          },
          "metadata": {
            "tags": []
          },
          "execution_count": 87
        }
      ]
    },
    {
      "cell_type": "code",
      "metadata": {
        "id": "Otxl5b5bW8d9",
        "colab": {
          "base_uri": "https://localhost:8080/"
        },
        "outputId": "5080321e-33dd-468d-8cc5-47a56771b076"
      },
      "source": [
        "F(data=[1,2,3,4,5])"
      ],
      "execution_count": 88,
      "outputs": [
        {
          "output_type": "execute_result",
          "data": {
            "text/plain": [
              "0"
            ]
          },
          "metadata": {
            "tags": []
          },
          "execution_count": 88
        }
      ]
    },
    {
      "cell_type": "code",
      "metadata": {
        "id": "3kYxqB_kW-SZ",
        "colab": {
          "base_uri": "https://localhost:8080/"
        },
        "outputId": "760cdc6f-216e-4f50-f968-433a79122853"
      },
      "source": [
        "F(type='mul', data=[1,2,3,4,5])"
      ],
      "execution_count": 89,
      "outputs": [
        {
          "output_type": "execute_result",
          "data": {
            "text/plain": [
              "0"
            ]
          },
          "metadata": {
            "tags": []
          },
          "execution_count": 89
        }
      ]
    },
    {
      "cell_type": "markdown",
      "metadata": {
        "id": "x8-FAeaaXI-V"
      },
      "source": [
        "**9. 파일 입출력**"
      ]
    },
    {
      "cell_type": "code",
      "metadata": {
        "colab": {
          "base_uri": "https://localhost:8080/",
          "height": 35
        },
        "id": "tE4c5rXJTcTj",
        "outputId": "8fcc638f-c4fe-493e-8c97-86e73bd75fdd"
      },
      "source": [
        "pwd"
      ],
      "execution_count": 95,
      "outputs": [
        {
          "output_type": "execute_result",
          "data": {
            "application/vnd.google.colaboratory.intrinsic+json": {
              "type": "string"
            },
            "text/plain": [
              "'/content'"
            ]
          },
          "metadata": {
            "tags": []
          },
          "execution_count": 95
        }
      ]
    },
    {
      "cell_type": "markdown",
      "metadata": {
        "id": "OLHXVRBwXV5m"
      },
      "source": [
        "- student 파일 읽기 예제"
      ]
    },
    {
      "cell_type": "code",
      "metadata": {
        "id": "5TJNq7EEX1gg",
        "colab": {
          "base_uri": "https://localhost:8080/",
          "height": 190
        },
        "outputId": "4e90f138-cda5-4c45-c747-a932258fb00a"
      },
      "source": [
        "with open('student.txt', 'r', encoding='euc-kr') as fr:\r\n",
        "  print(fr.readline())"
      ],
      "execution_count": 96,
      "outputs": [
        {
          "output_type": "error",
          "ename": "FileNotFoundError",
          "evalue": "ignored",
          "traceback": [
            "\u001b[0;31m---------------------------------------------------------------------------\u001b[0m",
            "\u001b[0;31mFileNotFoundError\u001b[0m                         Traceback (most recent call last)",
            "\u001b[0;32m<ipython-input-96-4b28c99f2317>\u001b[0m in \u001b[0;36m<module>\u001b[0;34m()\u001b[0m\n\u001b[0;32m----> 1\u001b[0;31m \u001b[0;32mwith\u001b[0m \u001b[0mopen\u001b[0m\u001b[0;34m(\u001b[0m\u001b[0;34m'student.txt'\u001b[0m\u001b[0;34m,\u001b[0m \u001b[0;34m'r'\u001b[0m\u001b[0;34m,\u001b[0m \u001b[0mencoding\u001b[0m\u001b[0;34m=\u001b[0m\u001b[0;34m'euc-kr'\u001b[0m\u001b[0;34m)\u001b[0m \u001b[0;32mas\u001b[0m \u001b[0mfr\u001b[0m\u001b[0;34m:\u001b[0m\u001b[0;34m\u001b[0m\u001b[0;34m\u001b[0m\u001b[0m\n\u001b[0m\u001b[1;32m      2\u001b[0m   \u001b[0mprint\u001b[0m\u001b[0;34m(\u001b[0m\u001b[0mfr\u001b[0m\u001b[0;34m.\u001b[0m\u001b[0mreadline\u001b[0m\u001b[0;34m(\u001b[0m\u001b[0;34m)\u001b[0m\u001b[0;34m)\u001b[0m\u001b[0;34m\u001b[0m\u001b[0;34m\u001b[0m\u001b[0m\n",
            "\u001b[0;31mFileNotFoundError\u001b[0m: [Errno 2] No such file or directory: 'student.txt'"
          ]
        }
      ]
    },
    {
      "cell_type": "markdown",
      "metadata": {
        "id": "KQEdEn4DY4sL"
      },
      "source": [
        "- 이름(첫 번째)를 제외한 **숫자 문자열**들만 추출"
      ]
    },
    {
      "cell_type": "code",
      "metadata": {
        "id": "NhsdIykmYGRl",
        "colab": {
          "base_uri": "https://localhost:8080/"
        },
        "outputId": "a63e5a3f-3b7f-4c3b-986c-830c255ec325"
      },
      "source": [
        "F = lambda x : x.split(';')[1:]\r\n",
        "F('태서연;54;72;60;78')"
      ],
      "execution_count": 97,
      "outputs": [
        {
          "output_type": "execute_result",
          "data": {
            "text/plain": [
              "['54', '72', '60', '78']"
            ]
          },
          "metadata": {
            "tags": []
          },
          "execution_count": 97
        }
      ]
    },
    {
      "cell_type": "code",
      "metadata": {
        "id": "8naBCARtYwj0",
        "colab": {
          "base_uri": "https://localhost:8080/"
        },
        "outputId": "31aa3461-425d-4d31-9385-c3a6edad5d40"
      },
      "source": [
        "F = lambda x : x.split(';')\r\n",
        "F('태서연;54;72;60;78')"
      ],
      "execution_count": 93,
      "outputs": [
        {
          "output_type": "execute_result",
          "data": {
            "text/plain": [
              "['태서연', '54', '72', '60', '78']"
            ]
          },
          "metadata": {
            "tags": []
          },
          "execution_count": 93
        }
      ]
    },
    {
      "cell_type": "markdown",
      "metadata": {
        "id": "IWsNEPtXZB4v"
      },
      "source": [
        "- 입력 문자열을 숫자로만 추출하기(list comprehension)"
      ]
    },
    {
      "cell_type": "code",
      "metadata": {
        "id": "2LZvQBNDZFV2",
        "colab": {
          "base_uri": "https://localhost:8080/"
        },
        "outputId": "5968085b-39d5-4eb7-e2d7-e3bc2d242bb5"
      },
      "source": [
        "F = lambda x : [int(i) for i in x.split(';')[1:]]\r\n",
        "F('태서연;54;72;60;78')"
      ],
      "execution_count": 73,
      "outputs": [
        {
          "output_type": "execute_result",
          "data": {
            "text/plain": [
              "[54, 72, 60, 78]"
            ]
          },
          "metadata": {
            "tags": []
          },
          "execution_count": 73
        }
      ]
    },
    {
      "cell_type": "markdown",
      "metadata": {
        "id": "xDAGircnZzzK"
      },
      "source": [
        "- 입력 문자열을 합계"
      ]
    },
    {
      "cell_type": "code",
      "metadata": {
        "id": "emVNFioGZRwr",
        "colab": {
          "base_uri": "https://localhost:8080/"
        },
        "outputId": "3848ee99-ddeb-47b2-f379-09a84a5176f1"
      },
      "source": [
        "F = lambda x : sum([int(i) for i in x.split(';')[1:]])\r\n",
        "F('태서연;54;72;60;78')"
      ],
      "execution_count": 74,
      "outputs": [
        {
          "output_type": "execute_result",
          "data": {
            "text/plain": [
              "264"
            ]
          },
          "metadata": {
            "tags": []
          },
          "execution_count": 74
        }
      ]
    },
    {
      "cell_type": "markdown",
      "metadata": {
        "id": "lHWBaFnLZ-IY"
      },
      "source": [
        "- 이름, 과목별 점수 합계 리턴"
      ]
    },
    {
      "cell_type": "code",
      "metadata": {
        "id": "U-dfGaM8aAaq",
        "colab": {
          "base_uri": "https://localhost:8080/"
        },
        "outputId": "00498444-259e-44bc-decd-5f51b2b37f31"
      },
      "source": [
        "F = lambda x : (x.split(';')[0], sum([int(i) for i in x.split(';')[1:]]))\r\n",
        "name, total = F('태서연;54;72;60;78')\r\n",
        "print(name, total)"
      ],
      "execution_count": 20,
      "outputs": [
        {
          "output_type": "stream",
          "text": [
            "태서연 264\n"
          ],
          "name": "stdout"
        }
      ]
    },
    {
      "cell_type": "markdown",
      "metadata": {
        "id": "pXM_edmyaS7z"
      },
      "source": [
        "- 입력 문자열을 미리 split 하여서 리스트로 넘긴다고 가정"
      ]
    },
    {
      "cell_type": "code",
      "metadata": {
        "id": "TzXf_5Kya4bW",
        "colab": {
          "base_uri": "https://localhost:8080/"
        },
        "outputId": "a01157c6-1cb3-43e6-b26f-9a44a21690f1"
      },
      "source": [
        "F = lambda L : [int(x) for x in L[1:]]\r\n",
        "F('태서연;54;72;60;78'.split(';'))"
      ],
      "execution_count": 19,
      "outputs": [
        {
          "output_type": "execute_result",
          "data": {
            "text/plain": [
              "[54, 72, 60, 78]"
            ]
          },
          "metadata": {
            "tags": []
          },
          "execution_count": 19
        }
      ]
    },
    {
      "cell_type": "markdown",
      "metadata": {
        "id": "y0PsavSPaYMg"
      },
      "source": [
        "- 이름, 점수 합계를 리턴하는 방법"
      ]
    },
    {
      "cell_type": "code",
      "metadata": {
        "id": "5JrhJUubbHx7",
        "colab": {
          "base_uri": "https://localhost:8080/"
        },
        "outputId": "5c4b0e85-9cdb-4d6f-bc14-ae2f98ee8b96"
      },
      "source": [
        "F = lambda L : (L[0], sum([int(x) for x in L[1:]]))\r\n",
        "\r\n",
        "name, total = F('태서연;54;72;60;78'.split(';'))\r\n",
        "\r\n",
        "print(name, total)"
      ],
      "execution_count": 18,
      "outputs": [
        {
          "output_type": "stream",
          "text": [
            "태서연 264\n"
          ],
          "name": "stdout"
        }
      ]
    },
    {
      "cell_type": "markdown",
      "metadata": {
        "id": "uPZ8H3oHadjU"
      },
      "source": [
        "- 타입별(이름, 합계), (이름, 평균)을 나타내는 함수"
      ]
    },
    {
      "cell_type": "code",
      "metadata": {
        "id": "kIvesDZ6bXZR",
        "colab": {
          "base_uri": "https://localhost:8080/"
        },
        "outputId": "2db02640-629a-4b28-961f-a74f8f04b74e"
      },
      "source": [
        "F = lambda L, T : (L[0], sum([int(x) for x in L[1:]])) if T==\"sum\" else\\\r\n",
        "                  (L[0], sum([int(x) for x in L[1:]])/len(L[1:])) if T==\"avg\" else\\\r\n",
        "                  (L[0], None)\r\n",
        "name, value = F('태서연;54;72;60;78'.split(';'), \"sum\")\r\n",
        "print(name, value)"
      ],
      "execution_count": 26,
      "outputs": [
        {
          "output_type": "stream",
          "text": [
            "태서연 264\n"
          ],
          "name": "stdout"
        }
      ]
    },
    {
      "cell_type": "code",
      "metadata": {
        "id": "UaUISnNhcCwg",
        "colab": {
          "base_uri": "https://localhost:8080/"
        },
        "outputId": "5d840278-f11d-4918-9c4e-7ea670ce69c9"
      },
      "source": [
        "name, value = F('태서연;54;72;60;78'.split(';'), \"avg\")\r\n",
        "print(name, value)"
      ],
      "execution_count": 27,
      "outputs": [
        {
          "output_type": "stream",
          "text": [
            "태서연 66.0\n"
          ],
          "name": "stdout"
        }
      ]
    },
    {
      "cell_type": "code",
      "metadata": {
        "id": "AAtwXd57cIzV",
        "colab": {
          "base_uri": "https://localhost:8080/",
          "height": 190
        },
        "outputId": "a76091ce-b35c-4791-ae8c-cc576a279621"
      },
      "source": [
        "name, value = F('태서연;54;72;60;78'.split(';'), \"mul\")\r\n",
        "print(name, value)"
      ],
      "execution_count": 75,
      "outputs": [
        {
          "output_type": "error",
          "ename": "TypeError",
          "evalue": "ignored",
          "traceback": [
            "\u001b[0;31m---------------------------------------------------------------------------\u001b[0m",
            "\u001b[0;31mTypeError\u001b[0m                                 Traceback (most recent call last)",
            "\u001b[0;32m<ipython-input-75-edfba2e12b33>\u001b[0m in \u001b[0;36m<module>\u001b[0;34m()\u001b[0m\n\u001b[0;32m----> 1\u001b[0;31m \u001b[0mname\u001b[0m\u001b[0;34m,\u001b[0m \u001b[0mvalue\u001b[0m \u001b[0;34m=\u001b[0m \u001b[0mF\u001b[0m\u001b[0;34m(\u001b[0m\u001b[0;34m'태서연;54;72;60;78'\u001b[0m\u001b[0;34m.\u001b[0m\u001b[0msplit\u001b[0m\u001b[0;34m(\u001b[0m\u001b[0;34m';'\u001b[0m\u001b[0;34m)\u001b[0m\u001b[0;34m,\u001b[0m \u001b[0;34m\"mul\"\u001b[0m\u001b[0;34m)\u001b[0m\u001b[0;34m\u001b[0m\u001b[0;34m\u001b[0m\u001b[0m\n\u001b[0m\u001b[1;32m      2\u001b[0m \u001b[0mprint\u001b[0m\u001b[0;34m(\u001b[0m\u001b[0mname\u001b[0m\u001b[0;34m,\u001b[0m \u001b[0mvalue\u001b[0m\u001b[0;34m)\u001b[0m\u001b[0;34m\u001b[0m\u001b[0;34m\u001b[0m\u001b[0m\n",
            "\u001b[0;31mTypeError\u001b[0m: <lambda>() takes 1 positional argument but 2 were given"
          ]
        }
      ]
    },
    {
      "cell_type": "markdown",
      "metadata": {
        "id": "bTALua5hcQ7G"
      },
      "source": [
        "- 파일을 읽어서 이름;합계;평균을 내는 student_result 파일로 저장"
      ]
    },
    {
      "cell_type": "code",
      "metadata": {
        "id": "f0snxEL0cWAV",
        "colab": {
          "base_uri": "https://localhost:8080/",
          "height": 262
        },
        "outputId": "6469d29a-c11a-4fc6-98c1-72fb117a7526"
      },
      "source": [
        "with open('student.txt', 'r', encoding='euc-kr') as fr, open('student_result.txt', 'w') as fw:\r\n",
        "  for line in fr:\r\n",
        "    name, total_sum = F(line.split(';'), 'sum')\r\n",
        "    name, total_avg = F(line.split(';'), 'avg')\r\n",
        "\r\n",
        "    #문자열 앞에 f를 붙이면 문자열 내부에 {}를 이용하여 변수를 바인딩 할 수 있음.  f-string\r\n",
        "    result = f\"{name};{total_sum};{total_avg}\\n\"\r\n",
        "    fw.write(result)"
      ],
      "execution_count": 14,
      "outputs": [
        {
          "output_type": "error",
          "ename": "FileNotFoundError",
          "evalue": "ignored",
          "traceback": [
            "\u001b[0;31m---------------------------------------------------------------------------\u001b[0m",
            "\u001b[0;31mFileNotFoundError\u001b[0m                         Traceback (most recent call last)",
            "\u001b[0;32m<ipython-input-14-abbc369c90a3>\u001b[0m in \u001b[0;36m<module>\u001b[0;34m()\u001b[0m\n\u001b[0;32m----> 1\u001b[0;31m \u001b[0;32mwith\u001b[0m \u001b[0mopen\u001b[0m\u001b[0;34m(\u001b[0m\u001b[0;34m'student.txt'\u001b[0m\u001b[0;34m,\u001b[0m \u001b[0;34m'r'\u001b[0m\u001b[0;34m,\u001b[0m \u001b[0mencoding\u001b[0m\u001b[0;34m=\u001b[0m\u001b[0;34m'euc-kr'\u001b[0m\u001b[0;34m)\u001b[0m \u001b[0;32mas\u001b[0m \u001b[0mfr\u001b[0m\u001b[0;34m,\u001b[0m \u001b[0mopen\u001b[0m\u001b[0;34m(\u001b[0m\u001b[0;34m'student_result.txt'\u001b[0m\u001b[0;34m,\u001b[0m \u001b[0;34m'w'\u001b[0m\u001b[0;34m)\u001b[0m \u001b[0;32mas\u001b[0m \u001b[0mfw\u001b[0m\u001b[0;34m:\u001b[0m\u001b[0;34m\u001b[0m\u001b[0;34m\u001b[0m\u001b[0m\n\u001b[0m\u001b[1;32m      2\u001b[0m   \u001b[0;32mfor\u001b[0m \u001b[0mline\u001b[0m \u001b[0;32min\u001b[0m \u001b[0mfr\u001b[0m\u001b[0;34m:\u001b[0m\u001b[0;34m\u001b[0m\u001b[0;34m\u001b[0m\u001b[0m\n\u001b[1;32m      3\u001b[0m     \u001b[0mname\u001b[0m\u001b[0;34m,\u001b[0m \u001b[0mtotal_sum\u001b[0m \u001b[0;34m=\u001b[0m \u001b[0mF\u001b[0m\u001b[0;34m(\u001b[0m\u001b[0mline\u001b[0m\u001b[0;34m.\u001b[0m\u001b[0msplit\u001b[0m\u001b[0;34m(\u001b[0m\u001b[0;34m';'\u001b[0m\u001b[0;34m)\u001b[0m\u001b[0;34m,\u001b[0m \u001b[0;34m'sum'\u001b[0m\u001b[0;34m)\u001b[0m\u001b[0;34m\u001b[0m\u001b[0;34m\u001b[0m\u001b[0m\n\u001b[1;32m      4\u001b[0m     \u001b[0mname\u001b[0m\u001b[0;34m,\u001b[0m \u001b[0mtotal_avg\u001b[0m \u001b[0;34m=\u001b[0m \u001b[0mF\u001b[0m\u001b[0;34m(\u001b[0m\u001b[0mline\u001b[0m\u001b[0;34m.\u001b[0m\u001b[0msplit\u001b[0m\u001b[0;34m(\u001b[0m\u001b[0;34m';'\u001b[0m\u001b[0;34m)\u001b[0m\u001b[0;34m,\u001b[0m \u001b[0;34m'avg'\u001b[0m\u001b[0;34m)\u001b[0m\u001b[0;34m\u001b[0m\u001b[0;34m\u001b[0m\u001b[0m\n\u001b[1;32m      5\u001b[0m \u001b[0;34m\u001b[0m\u001b[0m\n",
            "\u001b[0;31mFileNotFoundError\u001b[0m: [Errno 2] No such file or directory: 'student.txt'"
          ]
        }
      ]
    },
    {
      "cell_type": "markdown",
      "metadata": {
        "id": "Krp1HvKgdKj0"
      },
      "source": [
        "- student_result 파일에 저장된 내용 확인"
      ]
    },
    {
      "cell_type": "code",
      "metadata": {
        "id": "K1jopXfPc8uu",
        "colab": {
          "base_uri": "https://localhost:8080/",
          "height": 226
        },
        "outputId": "245916a1-cd85-4769-d18f-f3c29891eb15"
      },
      "source": [
        "with open('student_result.txt') as fr:\r\n",
        "  print(fr.readline())\r\n",
        "  print(fr.readline())\r\n",
        "  print(fr.readline())"
      ],
      "execution_count": 13,
      "outputs": [
        {
          "output_type": "error",
          "ename": "FileNotFoundError",
          "evalue": "ignored",
          "traceback": [
            "\u001b[0;31m---------------------------------------------------------------------------\u001b[0m",
            "\u001b[0;31mFileNotFoundError\u001b[0m                         Traceback (most recent call last)",
            "\u001b[0;32m<ipython-input-13-31ed8c4bd09d>\u001b[0m in \u001b[0;36m<module>\u001b[0;34m()\u001b[0m\n\u001b[0;32m----> 1\u001b[0;31m \u001b[0;32mwith\u001b[0m \u001b[0mopen\u001b[0m\u001b[0;34m(\u001b[0m\u001b[0;34m'student_result.txt'\u001b[0m\u001b[0;34m)\u001b[0m \u001b[0;32mas\u001b[0m \u001b[0mfr\u001b[0m\u001b[0;34m:\u001b[0m\u001b[0;34m\u001b[0m\u001b[0;34m\u001b[0m\u001b[0m\n\u001b[0m\u001b[1;32m      2\u001b[0m   \u001b[0mprint\u001b[0m\u001b[0;34m(\u001b[0m\u001b[0mfr\u001b[0m\u001b[0;34m.\u001b[0m\u001b[0mreadline\u001b[0m\u001b[0;34m(\u001b[0m\u001b[0;34m)\u001b[0m\u001b[0;34m)\u001b[0m\u001b[0;34m\u001b[0m\u001b[0;34m\u001b[0m\u001b[0m\n\u001b[1;32m      3\u001b[0m   \u001b[0mprint\u001b[0m\u001b[0;34m(\u001b[0m\u001b[0mfr\u001b[0m\u001b[0;34m.\u001b[0m\u001b[0mreadline\u001b[0m\u001b[0;34m(\u001b[0m\u001b[0;34m)\u001b[0m\u001b[0;34m)\u001b[0m\u001b[0;34m\u001b[0m\u001b[0;34m\u001b[0m\u001b[0m\n\u001b[1;32m      4\u001b[0m   \u001b[0mprint\u001b[0m\u001b[0;34m(\u001b[0m\u001b[0mfr\u001b[0m\u001b[0;34m.\u001b[0m\u001b[0mreadline\u001b[0m\u001b[0;34m(\u001b[0m\u001b[0;34m)\u001b[0m\u001b[0;34m)\u001b[0m\u001b[0;34m\u001b[0m\u001b[0;34m\u001b[0m\u001b[0m\n",
            "\u001b[0;31mFileNotFoundError\u001b[0m: [Errno 2] No such file or directory: 'student_result.txt'"
          ]
        }
      ]
    },
    {
      "cell_type": "markdown",
      "metadata": {
        "id": "qhaeKDXidcgA"
      },
      "source": [
        "**10. 데이터를 json파일/텍스트로 변환**"
      ]
    },
    {
      "cell_type": "code",
      "metadata": {
        "id": "qiN_zYzrdscw",
        "colab": {
          "base_uri": "https://localhost:8080/",
          "height": 244
        },
        "outputId": "e69ca07b-5876-4fdd-b9c6-c96f77526c8c"
      },
      "source": [
        "import json\r\n",
        "person_dict = {}\r\n",
        "\r\n",
        "with open('student.txt', 'r', encoding='euc-kr') as fr:\r\n",
        "  for line in fr:\r\n",
        "    data = line.strip().split(';') #불필요 공백 제거 후 문자로 문자열 분리\r\n",
        "    name = data[0]\r\n",
        "\r\n",
        "    # kor, eng, mat, sci = int(data[1]), int(data[2]), int(data[3]), int(data[4])\r\n",
        "    kor, eng, mat, sci = (int(x) for x in data[1:])\r\n",
        "    person_dict[name] = {'국어':kor, '영어':eng, '수학':mat, '과학':sci}\r\n",
        "\r\n",
        "with open('student_json', 'w') as fw:\r\n",
        "  json.dump(person_dict, fw, ensure_ascii=False, indent=4) #딕셔너리를 JSON으로 변환하여 파일로 저장\r\n",
        "\r\n",
        "json_data = json.dumps(person_dict)\r\n",
        "print(json_data)\r\n",
        "\r\n"
      ],
      "execution_count": 12,
      "outputs": [
        {
          "output_type": "error",
          "ename": "FileNotFoundError",
          "evalue": "ignored",
          "traceback": [
            "\u001b[0;31m---------------------------------------------------------------------------\u001b[0m",
            "\u001b[0;31mFileNotFoundError\u001b[0m                         Traceback (most recent call last)",
            "\u001b[0;32m<ipython-input-12-e251895ad4dc>\u001b[0m in \u001b[0;36m<module>\u001b[0;34m()\u001b[0m\n\u001b[1;32m      2\u001b[0m \u001b[0mperson_dict\u001b[0m \u001b[0;34m=\u001b[0m \u001b[0;34m{\u001b[0m\u001b[0;34m}\u001b[0m\u001b[0;34m\u001b[0m\u001b[0;34m\u001b[0m\u001b[0m\n\u001b[1;32m      3\u001b[0m \u001b[0;34m\u001b[0m\u001b[0m\n\u001b[0;32m----> 4\u001b[0;31m \u001b[0;32mwith\u001b[0m \u001b[0mopen\u001b[0m\u001b[0;34m(\u001b[0m\u001b[0;34m'student.txt'\u001b[0m\u001b[0;34m,\u001b[0m \u001b[0;34m'r'\u001b[0m\u001b[0;34m,\u001b[0m \u001b[0mencoding\u001b[0m\u001b[0;34m=\u001b[0m\u001b[0;34m'euc-kr'\u001b[0m\u001b[0;34m)\u001b[0m \u001b[0;32mas\u001b[0m \u001b[0mfr\u001b[0m\u001b[0;34m:\u001b[0m\u001b[0;34m\u001b[0m\u001b[0;34m\u001b[0m\u001b[0m\n\u001b[0m\u001b[1;32m      5\u001b[0m   \u001b[0;32mfor\u001b[0m \u001b[0mline\u001b[0m \u001b[0;32min\u001b[0m \u001b[0mfr\u001b[0m\u001b[0;34m:\u001b[0m\u001b[0;34m\u001b[0m\u001b[0;34m\u001b[0m\u001b[0m\n\u001b[1;32m      6\u001b[0m     \u001b[0mdata\u001b[0m \u001b[0;34m=\u001b[0m \u001b[0mline\u001b[0m\u001b[0;34m.\u001b[0m\u001b[0mstrip\u001b[0m\u001b[0;34m(\u001b[0m\u001b[0;34m)\u001b[0m\u001b[0;34m.\u001b[0m\u001b[0msplit\u001b[0m\u001b[0;34m(\u001b[0m\u001b[0;34m';'\u001b[0m\u001b[0;34m)\u001b[0m \u001b[0;31m#불필요 공백 제거 후 문자로 문자열 분리\u001b[0m\u001b[0;34m\u001b[0m\u001b[0;34m\u001b[0m\u001b[0m\n",
            "\u001b[0;31mFileNotFoundError\u001b[0m: [Errno 2] No such file or directory: 'student.txt'"
          ]
        }
      ]
    },
    {
      "cell_type": "markdown",
      "metadata": {
        "id": "HcaBAZfofw04"
      },
      "source": [
        "**11. 파이썬 오브젝트를 json 텍스트로 변환**"
      ]
    },
    {
      "cell_type": "code",
      "metadata": {
        "id": "m32C18N9fbbX"
      },
      "source": [
        "import json\r\n",
        "person_dict = {}\r\n",
        "\r\n",
        "with open('student.txt', 'r', encoding='euc-kr') as fr:\r\n",
        "  for line in fr:\r\n",
        "    data = line.strip().split(';') #불필요 공백 제거 후 문자로 문자열 분리\r\n",
        "    name = data[0] #이름\r\n",
        "\r\n",
        "    # kor, eng, mat, sci = int(data[1]), int(data[2]), int(data[3]), int(data[4])\r\n",
        "    kor, eng, mat, sci = (int(x) for x in data[1:])\r\n",
        "    person_dict[name] = {'국어':kor, '영어':eng, '수학':mat, '과학':sci}\r\n",
        "\r\n",
        "json_data = json.dumps(person_dict, ensure_ascii=False, indent=4) #한글 보존, indent 추가\r\n",
        "print(json_data)"
      ],
      "execution_count": null,
      "outputs": []
    },
    {
      "cell_type": "markdown",
      "metadata": {
        "id": "O1mnAj-rf2vC"
      },
      "source": [
        "**12. json 텍스트를 파이썬 오브젝트로 변환**\r\n",
        " - ''.join( list ) : 리스트에서 문자열으로"
      ]
    },
    {
      "cell_type": "code",
      "metadata": {
        "id": "_elQ1GRYf8ct"
      },
      "source": [
        "with open('student_json', 'r', encoding=\"UTF-8-sig\") as fr:\r\n",
        "  json_data = json.load(fr) #파일에 저장된 JSON 텍스트를 파이썬 오브젝트로 변환\r\n",
        "print(json_data['태서연'])\r\n",
        "\r\n",
        "with open('student_json', 'r', encoding=\"UTF-8-sig\") as fr:\r\n",
        "  json_text = ''.join(fr.readlines())\r\n",
        "\r\n",
        "json_data = json.loads(json_text) #JSON 형태의 텍스트를 파이썬 오브젝트로 변환\r\n",
        "print(json_data[\"태서연\"])"
      ],
      "execution_count": null,
      "outputs": []
    },
    {
      "cell_type": "markdown",
      "metadata": {
        "id": "q1GZDlkzlo7v"
      },
      "source": [
        "**13. pickle 데이터 직렬화 저장 로딩**"
      ]
    },
    {
      "cell_type": "markdown",
      "metadata": {
        "id": "Tk-k51pim6LC"
      },
      "source": [
        "텍스트 상태의 데이터가 아닌 파이썬 객체 자체를 파일로 저장하는 것 입니다.\r\n",
        "\r\n",
        "\r\n",
        "\r\n",
        "\r\n",
        "\r\n",
        "**그러면 무엇이 좋나요?**\r\n",
        "\r\n",
        "\r\n",
        "\r\n",
        "만약 우리가 10GB 짜리 raw text 파일을 파싱하여 필요한 부분을 빼내서 사용한다고 해봅시다\r\n",
        "\r\n",
        "\r\n",
        "\r\n",
        "raw text 에 있는 내용을 프로그램을 돌릴 때 마다 파싱하여 필요한 부분을 뺀다면 비효율 적이겠죠?\r\n",
        "\r\n",
        "\r\n",
        "\r\n",
        "그래서 미리 필요한 부분을 딕셔너리 던, 리스트 던, 튜플 이던 저장을 해놓는 것 입니다..\r\n",
        "\r\n",
        "\r\n",
        "\r\n",
        "근데 문자열이 아닌 객체를 파일에 쓸 수 없기에,\r\n",
        "\r\n",
        "\r\n",
        "\r\n",
        "pickle 모듈을 활용해 그 객체 자체를 바이너리로 저장하는 것 입니다 !! ㅎㅎ\r\n",
        "\r\n",
        "\r\n",
        "\r\n",
        "\r\n",
        "\r\n",
        "그럼 pickle 모듈로 저장된 파일을 그냥 불러오기만 하면 되기에 속도도 훨씬 빠르겠지요\r\n",
        "\r\n",
        "\r\n",
        "\r\n",
        "출처: https://korbillgates.tistory.com/173 [생물정보학자의 블로그]"
      ]
    },
    {
      "cell_type": "code",
      "metadata": {
        "id": "bM4b6QiAi7wC",
        "colab": {
          "base_uri": "https://localhost:8080/",
          "height": 244
        },
        "outputId": "8de4a3dd-0a90-4a42-8aa7-2bfe9f0ae4de"
      },
      "source": [
        "import json\r\n",
        "import pickle\r\n",
        "\r\n",
        "with open ('student_json', 'r', encoding='UTF-8-sig') as fr:\r\n",
        "  json_data = json.load(fr)\r\n",
        "\r\n",
        "with open ('student_pickle', 'wb') as fw:\r\n",
        "  pickle.dump(json_data, fw)\r\n",
        "\r\n",
        "with open ('student_pickle', 'rb') as fr:\r\n",
        "  pickle_data = pickle.load(fr)\r\n",
        "\r\n",
        "print(pickle_data['태서연'])"
      ],
      "execution_count": 76,
      "outputs": [
        {
          "output_type": "error",
          "ename": "FileNotFoundError",
          "evalue": "ignored",
          "traceback": [
            "\u001b[0;31m---------------------------------------------------------------------------\u001b[0m",
            "\u001b[0;31mFileNotFoundError\u001b[0m                         Traceback (most recent call last)",
            "\u001b[0;32m<ipython-input-76-c55219b28f0b>\u001b[0m in \u001b[0;36m<module>\u001b[0;34m()\u001b[0m\n\u001b[1;32m      2\u001b[0m \u001b[0;32mimport\u001b[0m \u001b[0mpickle\u001b[0m\u001b[0;34m\u001b[0m\u001b[0;34m\u001b[0m\u001b[0m\n\u001b[1;32m      3\u001b[0m \u001b[0;34m\u001b[0m\u001b[0m\n\u001b[0;32m----> 4\u001b[0;31m \u001b[0;32mwith\u001b[0m \u001b[0mopen\u001b[0m \u001b[0;34m(\u001b[0m\u001b[0;34m'student_json'\u001b[0m\u001b[0;34m,\u001b[0m \u001b[0;34m'r'\u001b[0m\u001b[0;34m,\u001b[0m \u001b[0mencoding\u001b[0m\u001b[0;34m=\u001b[0m\u001b[0;34m'UTF-8-sig'\u001b[0m\u001b[0;34m)\u001b[0m \u001b[0;32mas\u001b[0m \u001b[0mfr\u001b[0m\u001b[0;34m:\u001b[0m\u001b[0;34m\u001b[0m\u001b[0;34m\u001b[0m\u001b[0m\n\u001b[0m\u001b[1;32m      5\u001b[0m   \u001b[0mjson_data\u001b[0m \u001b[0;34m=\u001b[0m \u001b[0mjson\u001b[0m\u001b[0;34m.\u001b[0m\u001b[0mload\u001b[0m\u001b[0;34m(\u001b[0m\u001b[0mfr\u001b[0m\u001b[0;34m)\u001b[0m\u001b[0;34m\u001b[0m\u001b[0;34m\u001b[0m\u001b[0m\n\u001b[1;32m      6\u001b[0m \u001b[0;34m\u001b[0m\u001b[0m\n",
            "\u001b[0;31mFileNotFoundError\u001b[0m: [Errno 2] No such file or directory: 'student_json'"
          ]
        }
      ]
    },
    {
      "cell_type": "markdown",
      "metadata": {
        "id": "HeQfHuCknTGG"
      },
      "source": [
        "**<스스로>14. 서울시 인구 통계 분석(실습)**\r\n",
        "- seoul_people_report (CSV) 파일을 기반으로 구명을 key 값을 가지는 딕셔너리로 변경\r\n",
        "\r\n",
        "- 구별 '외국인 비율', '6 세이상고령자 비율' 을 계산 후 각각 key( 외국인비율 , 고령자비율에 저장"
      ]
    }
  ]
}